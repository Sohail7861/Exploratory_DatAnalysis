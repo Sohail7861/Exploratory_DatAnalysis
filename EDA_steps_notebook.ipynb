{
 "cells": [
  {
   "cell_type": "markdown",
   "id": "8045f1af",
   "metadata": {},
   "source": [
    "# Exploratory Data Analysis (EDA) Steps"
   ]
  },
  {
   "cell_type": "markdown",
   "id": "928168d3",
   "metadata": {},
   "source": [
    "## 1. Understand the Data"
   ]
  },
  {
   "cell_type": "markdown",
   "id": "f3b534ab",
   "metadata": {},
   "source": [
    "\n",
    "   - **Data Collection**: Import the dataset into the environment using libraries like pandas.\n",
    "   - **View the Dataset**: Use commands like `head()`, `tail()`, and `sample()` to get a feel of the data.\n",
    "        "
   ]
  },
  {
   "cell_type": "code",
   "execution_count": null,
   "id": "11e27d57",
   "metadata": {},
   "outputs": [],
   "source": [
    "\n",
    "import pandas as pd\n",
    "data = pd.read_csv('data.csv')\n",
    "print(data.head())\n",
    "    "
   ]
  },
  {
   "cell_type": "markdown",
   "id": "3d5758e6",
   "metadata": {},
   "source": [
    "## 2. Data Structure & Types"
   ]
  },
  {
   "cell_type": "markdown",
   "id": "eb4bf565",
   "metadata": {},
   "source": [
    "\n",
    "   - **Check Data Types**: Use `dtypes` to understand the types of each feature (e.g., integer, float, object).\n",
    "   - **Shape of the Dataset**: Use `shape` to get the number of rows and columns.\n",
    "   - **Summary Statistics**: Use `describe()` for numerical data statistics (mean, median, quartiles).\n",
    "        "
   ]
  },
  {
   "cell_type": "code",
   "execution_count": null,
   "id": "eeffbe4a",
   "metadata": {},
   "outputs": [],
   "source": [
    "\n",
    "print(data.info())\n",
    "print(data.describe())\n",
    "    "
   ]
  },
  {
   "cell_type": "markdown",
   "id": "bbe898d6",
   "metadata": {},
   "source": [
    "## 3. Handling Missing Values"
   ]
  },
  {
   "cell_type": "markdown",
   "id": "3cbfbe89",
   "metadata": {},
   "source": [
    "\n",
    "   - **Identify Missing Data**: Use `isnull()` or `isna()` and `sum()` to find missing values.\n",
    "   - **Handle Missing Values**: Depending on the data, you can:\n",
    "     - Drop missing values (`dropna()`).\n",
    "     - Impute missing values (fill with mean, median, mode, or use interpolation).\n",
    "        "
   ]
  },
  {
   "cell_type": "code",
   "execution_count": null,
   "id": "a601eb78",
   "metadata": {},
   "outputs": [],
   "source": [
    "\n",
    "print(data.isnull().sum())\n",
    "data.fillna(data.mean(), inplace=True)\n",
    "    "
   ]
  },
  {
   "cell_type": "markdown",
   "id": "c5405c7d",
   "metadata": {},
   "source": [
    "## 4. Duplicate Data"
   ]
  },
  {
   "cell_type": "markdown",
   "id": "05c35729",
   "metadata": {},
   "source": [
    "\n",
    "   - **Check for Duplicates**: Use `duplicated()` to find duplicate rows.\n",
    "   - **Remove Duplicates**: Use `drop_duplicates()` to remove duplicate entries.\n",
    "        "
   ]
  },
  {
   "cell_type": "code",
   "execution_count": null,
   "id": "f32fdb31",
   "metadata": {},
   "outputs": [],
   "source": [
    "\n",
    "data.drop_duplicates(inplace=True)\n",
    "    "
   ]
  },
  {
   "cell_type": "markdown",
   "id": "1a67e17f",
   "metadata": {},
   "source": [
    "## 5. Univariate Analysis"
   ]
  },
  {
   "cell_type": "markdown",
   "id": "53219943",
   "metadata": {},
   "source": [
    "\n",
    "   - **Distribution of Variables**: Use histograms (`hist()`), boxplots (`boxplot()`), or value counts (`value_counts()`) to understand the distribution of each feature.\n",
    "   - **Outliers**: Identify outliers using boxplots or statistical methods like Z-scores.\n",
    "        "
   ]
  },
  {
   "cell_type": "code",
   "execution_count": null,
   "id": "70b2bdb1",
   "metadata": {},
   "outputs": [],
   "source": [
    "\n",
    "import seaborn as sns\n",
    "import matplotlib.pyplot as plt\n",
    "sns.boxplot(x=data['column'])\n",
    "plt.show()\n",
    "    "
   ]
  },
  {
   "cell_type": "markdown",
   "id": "2cde7037",
   "metadata": {},
   "source": [
    "## 6. Multivariate Analysis"
   ]
  },
  {
   "cell_type": "markdown",
   "id": "a2b39dd1",
   "metadata": {},
   "source": [
    "\n",
    "   - **Correlation Analysis**: Use `corr()` and heatmaps to visualize relationships between variables.\n",
    "   - **Scatter Plots**: For visualizing relationships between two numerical variables.\n",
    "        "
   ]
  },
  {
   "cell_type": "code",
   "execution_count": null,
   "id": "173e8bd9",
   "metadata": {},
   "outputs": [],
   "source": [
    "\n",
    "sns.heatmap(data.corr(), annot=True, cmap='coolwarm')\n",
    "plt.show()\n",
    "    "
   ]
  },
  {
   "cell_type": "markdown",
   "id": "e25cd22f",
   "metadata": {},
   "source": [
    "## 7. Categorical vs Numerical Analysis"
   ]
  },
  {
   "cell_type": "markdown",
   "id": "a0bc3f3b",
   "metadata": {},
   "source": [
    "\n",
    "   - **Categorical Data**: Analyze categorical columns using `value_counts()` and bar plots (`countplot()`).\n",
    "   - **Numerical Data**: For continuous data, check distributions using histograms or kernel density plots.\n",
    "        "
   ]
  },
  {
   "cell_type": "code",
   "execution_count": null,
   "id": "cd5a0817",
   "metadata": {},
   "outputs": [],
   "source": [
    "\n",
    "sns.countplot(x='category_column', data=data)\n",
    "plt.show()\n",
    "    "
   ]
  },
  {
   "cell_type": "markdown",
   "id": "72d65a08",
   "metadata": {},
   "source": [
    "## 8. Feature Engineering"
   ]
  },
  {
   "cell_type": "markdown",
   "id": "24f79c04",
   "metadata": {},
   "source": [
    "\n",
    "   - **Create New Features**: Based on domain knowledge or patterns, create new columns or features.\n",
    "   - **Encoding Categorical Variables**: Use methods like one-hot encoding (`pd.get_dummies()`) for categorical data.\n",
    "        "
   ]
  },
  {
   "cell_type": "markdown",
   "id": "96dd283e",
   "metadata": {},
   "source": [
    "## 9. Dimensionality Reduction (Optional)"
   ]
  },
  {
   "cell_type": "markdown",
   "id": "2de4965e",
   "metadata": {},
   "source": [
    "\n",
    "   - If there are too many features, use techniques like **Principal Component Analysis (PCA)** to reduce dimensionality.\n",
    "        "
   ]
  },
  {
   "cell_type": "markdown",
   "id": "a9834c18",
   "metadata": {},
   "source": [
    "## 10. Visualization"
   ]
  },
  {
   "cell_type": "markdown",
   "id": "e85b8cb0",
   "metadata": {},
   "source": [
    "\n",
    "   - **Visualize Relationships**: Use pair plots (`pairplot()`), bar charts, or line charts to explore how features interact with each other.\n",
    "        "
   ]
  },
  {
   "cell_type": "code",
   "execution_count": null,
   "id": "c5b8ca55",
   "metadata": {},
   "outputs": [],
   "source": [
    "\n",
    "sns.pairplot(data)\n",
    "plt.show()\n",
    "    "
   ]
  }
 ],
 "metadata": {
  "kernelspec": {
   "display_name": "Python 3 (ipykernel)",
   "language": "python",
   "name": "python3"
  },
  "language_info": {
   "codemirror_mode": {
    "name": "ipython",
    "version": 3
   },
   "file_extension": ".py",
   "mimetype": "text/x-python",
   "name": "python",
   "nbconvert_exporter": "python",
   "pygments_lexer": "ipython3",
   "version": "3.12.4"
  }
 },
 "nbformat": 4,
 "nbformat_minor": 5
}
